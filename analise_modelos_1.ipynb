{
  "nbformat": 4,
  "nbformat_minor": 0,
  "metadata": {
    "colab": {
      "provenance": []
    },
    "kernelspec": {
      "name": "python3",
      "display_name": "Python 3"
    },
    "language_info": {
      "name": "python"
    }
  },
  "cells": [
    {
      "cell_type": "code",
      "execution_count": null,
      "metadata": {
        "id": "Iuu881m4-SE-"
      },
      "outputs": [],
      "source": [
        "import pandas as pd\n",
        "import numpy as np\n",
        "import statsmodels.api as sm\n",
        "from sklearn.model_selection import train_test_split\n",
        "from sklearn.ensemble import RandomForestRegressor\n",
        "from sklearn.metrics import mean_squared_error, r2_score\n",
        "from sklearn.preprocessing import StandardScaler"
      ]
    },
    {
      "cell_type": "code",
      "source": [
        "from google.colab import drive\n",
        "drive.mount('/content/drive')"
      ],
      "metadata": {
        "id": "iB2-Pfbh_znE",
        "colab": {
          "base_uri": "https://localhost:8080/"
        },
        "outputId": "c4696bec-937a-4199-8154-cb65397ac30e"
      },
      "execution_count": null,
      "outputs": [
        {
          "output_type": "stream",
          "name": "stdout",
          "text": [
            "Mounted at /content/drive\n"
          ]
        }
      ]
    },
    {
      "cell_type": "code",
      "source": [
        "TARGET_COL = \"CCS\" # Ou \"Log_CCS\" após transformação\n",
        "PREDICTOR_COLS_COMPOSITION = [\"Gordura\", \"Proteina\", \"Lactose\", \"Densidade\"]\n",
        "CATEGORICAL_COL = \"Estação\"\n",
        "\n",
        "PREPROCESSED_FILE =  '/content/drive/MyDrive/TCC/dados_leite_preprocessados.csv'\n"
      ],
      "metadata": {
        "id": "zDxR4FbL_6K8"
      },
      "execution_count": null,
      "outputs": []
    },
    {
      "cell_type": "code",
      "source": [
        "dados = pd.read_csv(PREPROCESSED_FILE)\n",
        "print(dados.shape)\n"
      ],
      "metadata": {
        "colab": {
          "base_uri": "https://localhost:8080/"
        },
        "id": "q__HXMbkj9yS",
        "outputId": "3d3a1254-5f70-4bbe-f1b4-47fb8bcdddec"
      },
      "execution_count": null,
      "outputs": [
        {
          "output_type": "stream",
          "name": "stdout",
          "text": [
            "(184993, 27)\n"
          ]
        }
      ]
    },
    {
      "cell_type": "code",
      "source": [
        "dados[PREDICTOR_COLS_COMPOSITION + [TARGET_COL]] = dados[PREDICTOR_COLS_COMPOSITION + [TARGET_COL]].apply(pd.to_numeric, errors=\"coerce\")\n",
        "print(dados.shape)"
      ],
      "metadata": {
        "colab": {
          "base_uri": "https://localhost:8080/"
        },
        "id": "g9C-1Hg0kQR5",
        "outputId": "0de8d3d5-ca79-41c8-f907-fef72b6a1009"
      },
      "execution_count": null,
      "outputs": [
        {
          "output_type": "stream",
          "name": "stdout",
          "text": [
            "(184993, 27)\n"
          ]
        }
      ]
    },
    {
      "cell_type": "markdown",
      "source": [
        "# Regressão linear"
      ],
      "metadata": {
        "id": "QjVsW56skf1-"
      }
    },
    {
      "cell_type": "code",
      "source": [
        "#var dummy para Estação (para Regressão Linear)\n",
        "if dados[CATEGORICAL_COL].nunique() > 1:\n",
        "    print(f'Criando variáveis dummy para \"{CATEGORICAL_COL}\"...')\n",
        "    dados = pd.get_dummies(dados, columns=[CATEGORICAL_COL], drop_first=True, prefix=CATEGORICAL_COL)\n",
        "    dummy_cols = [col for col in dados.columns if col.startswith(f\"{CATEGORICAL_COL}_\")]\n",
        "    print(f\"Colunas dummy criadas: {dummy_cols}\")\n",
        "    PREDICTORS_ALL = PREDICTOR_COLS_COMPOSITION + dummy_cols\n",
        "else:\n",
        "    print(f'Coluna \"{CATEGORICAL_COL}\" não possui categorias suficientes para dummies ou não existe.')\n",
        "    dummy_cols = []\n",
        "    PREDICTORS_ALL = PREDICTOR_COLS_COMPOSITION\n",
        "\n",
        "print(f\"Preditoras finais para modelos: {PREDICTORS_ALL}\")\n"
      ],
      "metadata": {
        "colab": {
          "base_uri": "https://localhost:8080/"
        },
        "id": "qAh30T_AkbIo",
        "outputId": "f90aa445-a5ce-4305-d0a1-5c7097c77c0e"
      },
      "execution_count": null,
      "outputs": [
        {
          "output_type": "stream",
          "name": "stdout",
          "text": [
            "Criando variáveis dummy para \"Estação\"...\n",
            "Colunas dummy criadas: ['Estação_Outono', 'Estação_Primavera', 'Estação_Verão']\n",
            "Preditoras finais para modelos: ['Gordura', 'Proteina', 'Lactose', 'Densidade', 'Estação_Outono', 'Estação_Primavera', 'Estação_Verão']\n"
          ]
        }
      ]
    },
    {
      "cell_type": "code",
      "source": [
        "print(\"\\n--- Regressão Linear Simples (Lactose vs CCS) ---\")\n",
        "X_simple = dados[\"Lactose\"]\n",
        "y_simple = dados[TARGET_COL]\n",
        "X_simple = sm.add_constant(X_simple) # Adiciona intercep\n",
        "\n",
        "model_simple = sm.OLS(y_simple, X_simple).fit()\n",
        "\n",
        "print(model_simple.summary())\n"
      ],
      "metadata": {
        "colab": {
          "base_uri": "https://localhost:8080/"
        },
        "id": "LWt9HiBlkepm",
        "outputId": "40d89809-772b-4062-a180-55405e146181"
      },
      "execution_count": null,
      "outputs": [
        {
          "output_type": "stream",
          "name": "stdout",
          "text": [
            "\n",
            "--- Regressão Linear Simples (Lactose vs CCS) ---\n",
            "                            OLS Regression Results                            \n",
            "==============================================================================\n",
            "Dep. Variable:                    CCS   R-squared:                       0.140\n",
            "Model:                            OLS   Adj. R-squared:                  0.140\n",
            "Method:                 Least Squares   F-statistic:                 3.017e+04\n",
            "Date:                Wed, 04 Jun 2025   Prob (F-statistic):               0.00\n",
            "Time:                        13:49:19   Log-Likelihood:            -2.5716e+06\n",
            "No. Observations:              184993   AIC:                         5.143e+06\n",
            "Df Residuals:                  184991   BIC:                         5.143e+06\n",
            "Df Model:                           1                                         \n",
            "Covariance Type:            nonrobust                                         \n",
            "==============================================================================\n",
            "                 coef    std err          t      P>|t|      [0.025      0.975]\n",
            "------------------------------------------------------------------------------\n",
            "const       3.893e+06   1.91e+04    203.736      0.000    3.86e+06    3.93e+06\n",
            "Lactose    -7.588e+05   4368.341   -173.694      0.000   -7.67e+05    -7.5e+05\n",
            "==============================================================================\n",
            "Omnibus:                    21205.880   Durbin-Watson:                   1.868\n",
            "Prob(Omnibus):                  0.000   Jarque-Bera (JB):             6377.122\n",
            "Skew:                           0.155   Prob(JB):                         0.00\n",
            "Kurtosis:                       2.145   Cond. No.                         144.\n",
            "==============================================================================\n",
            "\n",
            "Notes:\n",
            "[1] Standard Errors assume that the covariance matrix of the errors is correctly specified.\n"
          ]
        }
      ]
    },
    {
      "cell_type": "code",
      "source": [
        "print(f\"\\n---  Regressão Linear Múltipla (Predizendo {TARGET_COL}) ---\")\n",
        "\n",
        "#esse codigo abaixo foi gerado pelo gemini, pois o meu estava dando MissingDataError: exog contains inf or nans\n",
        "\n",
        "# Create a list of columns to check for NaNs\n",
        "cols_to_check_for_nan = PREDICTORS_ALL + [TARGET_COL]\n",
        "\n",
        "# Drop rows where any of the specified columns have NaN values\n",
        "print(f\"Shape dos dados antes de remover NaNs: {dados.shape}\")\n",
        "dados_cleaned = dados.dropna(subset=cols_to_check_for_nan)\n",
        "print(f\"Shape dos dados depois de remover NaNs nos preditores/target: {dados_cleaned.shape}\")\n",
        "\n",
        "# Use the cleaned data for modeling\n",
        "X_multi = dados_cleaned[PREDICTORS_ALL].astype(float)\n",
        "y_multi = dados_cleaned[TARGET_COL].astype(float)\n",
        "X_multi = sm.add_constant(X_multi) # Adiciona intercepto\n",
        "\n",
        "model_multi = sm.OLS(y_multi, X_multi).fit()\n",
        "print(model_multi.summary())"
      ],
      "metadata": {
        "id": "dAH2Zo2mrHUy",
        "outputId": "fddd7969-296c-4754-9ef9-152a72886926",
        "colab": {
          "base_uri": "https://localhost:8080/"
        }
      },
      "execution_count": null,
      "outputs": [
        {
          "output_type": "stream",
          "name": "stdout",
          "text": [
            "\n",
            "---  Regressão Linear Múltipla (Predizendo CCS) ---\n",
            "Shape dos dados antes de remover NaNs: (184993, 29)\n",
            "Shape dos dados depois de remover NaNs nos preditores/target: (167240, 29)\n",
            "                            OLS Regression Results                            \n",
            "==============================================================================\n",
            "Dep. Variable:                    CCS   R-squared:                       0.151\n",
            "Model:                            OLS   Adj. R-squared:                  0.151\n",
            "Method:                 Least Squares   F-statistic:                     4249.\n",
            "Date:                Wed, 04 Jun 2025   Prob (F-statistic):               0.00\n",
            "Time:                        13:49:19   Log-Likelihood:            -2.3233e+06\n",
            "No. Observations:              167240   AIC:                         4.647e+06\n",
            "Df Residuals:                  167232   BIC:                         4.647e+06\n",
            "Df Model:                           7                                         \n",
            "Covariance Type:            nonrobust                                         \n",
            "=====================================================================================\n",
            "                        coef    std err          t      P>|t|      [0.025      0.975]\n",
            "-------------------------------------------------------------------------------------\n",
            "const              2.556e+06   1.89e+06      1.356      0.175   -1.14e+06    6.25e+06\n",
            "Gordura            -1.28e+04   2364.657     -5.412      0.000   -1.74e+04   -8162.863\n",
            "Proteina           9.094e+04   4677.150     19.444      0.000    8.18e+04       1e+05\n",
            "Lactose           -8.016e+05   9207.771    -87.060      0.000    -8.2e+05   -7.84e+05\n",
            "Densidade          1257.8655   1867.684      0.673      0.501   -2402.755    4918.485\n",
            "Estação_Outono    -4.277e+04   1771.761    -24.139      0.000   -4.62e+04   -3.93e+04\n",
            "Estação_Primavera  2.809e+04   2279.606     12.320      0.000    2.36e+04    3.26e+04\n",
            "Estação_Verão     -1.337e+04   1740.066     -7.684      0.000   -1.68e+04   -9959.368\n",
            "==============================================================================\n",
            "Omnibus:                    16115.740   Durbin-Watson:                   1.881\n",
            "Prob(Omnibus):                  0.000   Jarque-Bera (JB):             5288.708\n",
            "Skew:                           0.150   Prob(JB):                         0.00\n",
            "Kurtosis:                       2.182   Cond. No.                     3.04e+06\n",
            "==============================================================================\n",
            "\n",
            "Notes:\n",
            "[1] Standard Errors assume that the covariance matrix of the errors is correctly specified.\n",
            "[2] The condition number is large, 3.04e+06. This might indicate that there are\n",
            "strong multicollinearity or other numerical problems.\n"
          ]
        }
      ]
    },
    {
      "cell_type": "code",
      "source": [
        "\n",
        "\n",
        "# --- Modelo 3: Random Forest Regressor (Predizendo CCS) ---\n",
        "\n",
        "print(f\"\\n--- Modelo 3: Random Forest Regressor (Predizendo {TARGET_COL}) ---\")\n",
        "\n",
        "X_rf = dados[PREDICTORS_ALL].astype(float)\n",
        "y_rf = dados[TARGET_COL].astype(float)\n",
        "\n",
        "X_train, X_test, y_train, y_test = train_test_split(X_rf, y_rf, test_size=0.3, random_state=42)\n",
        "\n",
        "# Treinar\n",
        "rf_model = RandomForestRegressor(n_estimators=100, random_state=42, n_jobs=-1, max_depth=10, min_samples_leaf=5)\n",
        "print(\"Treinando...\")\n",
        "rf_model.fit(X_train, y_train)\n",
        "\n",
        "\n",
        "y_pred_rf = rf_model.predict(X_test)\n",
        "\n",
        "# Avaliar\n",
        "mse_rf = mean_squared_error(y_test, y_pred_rf)\n",
        "r2_rf = r2_score(y_test, y_pred_rf)\n",
        "print(f\" (MSE): {mse_rf:.4f}\")\n",
        "print(f\"(R²): {r2_rf:.4f}\")\n",
        "\n",
        "importances = rf_model.feature_importances_\n",
        "feature_importance_df = pd.DataFrame({\"Feature\": PREDICTORS_ALL, \"Importance\": importances}).sort_values(by=\"Importance\", ascending=False)\n",
        "print(feature_importance_df)\n"
      ],
      "metadata": {
        "id": "BTOeSuOzA13q",
        "outputId": "793697a3-9c04-43af-85d5-8cc9ea403858",
        "colab": {
          "base_uri": "https://localhost:8080/"
        }
      },
      "execution_count": null,
      "outputs": [
        {
          "output_type": "stream",
          "name": "stdout",
          "text": [
            "\n",
            "--- Modelo 3: Random Forest Regressor (Predizendo CCS) ---\n",
            "Treinando...\n",
            " (MSE): 66375602637.7042\n",
            "(R²): 0.1752\n",
            "             Feature  Importance\n",
            "2            Lactose    0.724306\n",
            "0            Gordura    0.112175\n",
            "1           Proteina    0.099240\n",
            "3          Densidade    0.022359\n",
            "4     Estação_Outono    0.021800\n",
            "6      Estação_Verão    0.010495\n",
            "5  Estação_Primavera    0.009626\n"
          ]
        }
      ]
    },
    {
      "cell_type": "code",
      "source": [],
      "metadata": {
        "id": "5oQZHb7lmp0o"
      },
      "execution_count": null,
      "outputs": []
    }
  ]
}